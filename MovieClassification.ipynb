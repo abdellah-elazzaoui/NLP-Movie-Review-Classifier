{
 "cells": [
  {
   "cell_type": "code",
   "execution_count": 2,
   "id": "074fb65e",
   "metadata": {},
   "outputs": [],
   "source": [
    "def get_review():\n",
    "    from transformers import AutoTokenizer,AutoModelForSequenceClassification\n",
    "    import torch\n",
    "    device = torch.device(\"cuda\") if torch.cuda.is_available() else torch.device(\"cpu\")\n",
    "\n",
    "    checkpoint = torch.load(\"model_ReviewClassifier.pth\",map_location=device)\n",
    "    id2label = {0:\"NEGATIVE\",1:\"POSITIVE\"}\n",
    "    label2id ={\"NEGATIVE\":0,\"POSITIVE\":1}\n",
    "    model = AutoModelForSequenceClassification.from_pretrained(\"distilbert/distilbert-base-uncased\",num_labels=2,id2label=id2label,label2id=label2id)\n",
    "    tokenizer = AutoTokenizer.from_pretrained(\"distilbert/distilbert-base-uncased\")\n",
    "    model.load_state_dict(checkpoint[\"model_state_dict\"])\n",
    "    review = input(\"Enter your review\")\n",
    "    tokenized_review = tokenizer(review,padding=True,truncation=True,return_tensors=\"pt\")\n",
    "    index = model(**tokenized_review).logits.argmax(dim=1).item()\n",
    "    print(f\"Your Review is : {id2label[index]}\")"
   ]
  },
  {
   "cell_type": "code",
   "execution_count": 4,
   "id": "ee1a3b18",
   "metadata": {},
   "outputs": [
    {
     "name": "stderr",
     "output_type": "stream",
     "text": [
      "Some weights of DistilBertForSequenceClassification were not initialized from the model checkpoint at distilbert/distilbert-base-uncased and are newly initialized: ['classifier.bias', 'classifier.weight', 'pre_classifier.bias', 'pre_classifier.weight']\n",
      "You should probably TRAIN this model on a down-stream task to be able to use it for predictions and inference.\n"
     ]
    },
    {
     "name": "stdout",
     "output_type": "stream",
     "text": [
      "Your Review is : NEGATIVE\n"
     ]
    }
   ],
   "source": [
    "get_review()"
   ]
  },
  {
   "cell_type": "code",
   "execution_count": null,
   "id": "1c8e4fef",
   "metadata": {},
   "outputs": [],
   "source": []
  }
 ],
 "metadata": {
  "kernelspec": {
   "display_name": "base",
   "language": "python",
   "name": "python3"
  },
  "language_info": {
   "codemirror_mode": {
    "name": "ipython",
    "version": 3
   },
   "file_extension": ".py",
   "mimetype": "text/x-python",
   "name": "python",
   "nbconvert_exporter": "python",
   "pygments_lexer": "ipython3",
   "version": "3.12.7"
  }
 },
 "nbformat": 4,
 "nbformat_minor": 5
}
